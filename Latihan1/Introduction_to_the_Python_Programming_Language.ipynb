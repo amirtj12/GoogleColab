{
  "nbformat": 4,
  "nbformat_minor": 0,
  "metadata": {
    "colab": {
      "provenance": [],
      "include_colab_link": true
    },
    "kernelspec": {
      "name": "python3",
      "display_name": "Python 3"
    },
    "language_info": {
      "name": "python"
    }
  },
  "cells": [
    {
      "cell_type": "markdown",
      "metadata": {
        "id": "view-in-github",
        "colab_type": "text"
      },
      "source": [
        "<a href=\"https://colab.research.google.com/github/amirtj12/GoogleColab/blob/main/Latihan1/Introduction_to_the_Python_Programming_Language.ipynb\" target=\"_parent\"><img src=\"https://colab.research.google.com/assets/colab-badge.svg\" alt=\"Open In Colab\"/></a>"
      ]
    },
    {
      "cell_type": "markdown",
      "source": [
        "# **Connect to your colab notebook drive**\n"
      ],
      "metadata": {
        "id": "eUN5IcKd0oCs"
      }
    },
    {
      "cell_type": "code",
      "execution_count": null,
      "metadata": {
        "id": "2x8enK7R0RaI"
      },
      "outputs": [],
      "source": [
        "from google.colab import drive\n",
        "drive.mount('/content/drive')"
      ]
    },
    {
      "cell_type": "code",
      "source": [
        "cd drive/MyDrive"
      ],
      "metadata": {
        "id": "TR1e000fX7xa"
      },
      "execution_count": null,
      "outputs": []
    },
    {
      "cell_type": "code",
      "source": [
        "cd Colab Notebooks"
      ],
      "metadata": {
        "id": "BoaPUWAk2Qaa"
      },
      "execution_count": null,
      "outputs": []
    },
    {
      "cell_type": "code",
      "source": [
        "!pwd"
      ],
      "metadata": {
        "id": "-4JQupIf20Ao"
      },
      "execution_count": null,
      "outputs": []
    },
    {
      "cell_type": "code",
      "source": [
        "!ls"
      ],
      "metadata": {
        "id": "6RPs7qwWxce7"
      },
      "execution_count": null,
      "outputs": []
    },
    {
      "cell_type": "markdown",
      "source": [
        "# **Import library yang dibutuhkan**\n",
        "\n",
        "\n",
        "\n"
      ],
      "metadata": {
        "id": "rzSst3KKxdn4"
      }
    },
    {
      "cell_type": "code",
      "source": [
        "import pandas as pd\n",
        "import numpy as np\n",
        "import matplotlib.pyplot as plt"
      ],
      "metadata": {
        "id": "W1l78Me60mL0"
      },
      "execution_count": null,
      "outputs": []
    },
    {
      "cell_type": "markdown",
      "source": [
        "# **Load data**\n",
        "\n"
      ],
      "metadata": {
        "id": "vZtaSUZB02On"
      }
    },
    {
      "cell_type": "code",
      "source": [
        "data = pd.read_csv('Car_SupplyChainManagementDataSet.csv')"
      ],
      "metadata": {
        "id": "2GV9mLQA1llP"
      },
      "execution_count": null,
      "outputs": []
    },
    {
      "cell_type": "markdown",
      "source": [
        "# **Periksa properties umum dari dataset**\n",
        "\n"
      ],
      "metadata": {
        "id": "Nl7wfQ2M2hWn"
      }
    },
    {
      "cell_type": "code",
      "source": [
        "data.head()  # Judul kolom serta contoh tampilan data pada setiap kolom\n",
        "data.shape   # Jumlah baris dan kolom pada dataset\n",
        "#data.info()  # Tipe data dari setiap kolom serta missing value\n",
        "#data.describe()  # computes summary statistics such as mean, median, standard deviation, etc.\n",
        "#data.describe().transpose()\n",
        "#data.isnull()  # shows the number of missing values in each column\n",
        "data.isnull().sum()"
      ],
      "metadata": {
        "id": "w6ylafzk3Ntw",
        "colab": {
          "base_uri": "https://localhost:8080/"
        },
        "outputId": "157f09ea-061e-4075-bcd2-fb3bd6a13b2c"
      },
      "execution_count": null,
      "outputs": [
        {
          "output_type": "execute_result",
          "data": {
            "text/plain": [
              "SupplierID                0\n",
              "SupplierAddress           0\n",
              "SupplierName              0\n",
              "SupplierContactDetails    0\n",
              "ProductID                 0\n",
              "CarMaker                  0\n",
              "CarModel                  0\n",
              "CarColor                  0\n",
              "CarModelYear              0\n",
              "CarPrice                  0\n",
              "CustomerID                0\n",
              "CustomerName              0\n",
              "Gender                    0\n",
              "JobTitle                  0\n",
              "PhoneNumber               0\n",
              "EmailAddress              0\n",
              "City                      0\n",
              "Country                   0\n",
              "CountryCode               0\n",
              "State                     0\n",
              "CustomerAddress           0\n",
              "OrderDate                 0\n",
              "OrderID                   0\n",
              "ShipDate                  0\n",
              "ShipMode                  0\n",
              "Shipping                  0\n",
              "PostalCode                0\n",
              "Sales                     0\n",
              "Quantity                  0\n",
              "Discount                  0\n",
              "CreditCardType            0\n",
              "CreditCard                0\n",
              "CustomerFeedback          0\n",
              "dtype: int64"
            ]
          },
          "metadata": {},
          "execution_count": 14
        }
      ]
    }
  ]
}