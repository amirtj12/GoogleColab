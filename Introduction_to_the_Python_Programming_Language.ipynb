{
  "nbformat": 4,
  "nbformat_minor": 0,
  "metadata": {
    "colab": {
      "provenance": [],
      "include_colab_link": true
    },
    "kernelspec": {
      "name": "python3",
      "display_name": "Python 3"
    },
    "language_info": {
      "name": "python"
    }
  },
  "cells": [
    {
      "cell_type": "markdown",
      "metadata": {
        "id": "view-in-github",
        "colab_type": "text"
      },
      "source": [
        "<a href=\"https://colab.research.google.com/github/amirtj12/GoogleColab/blob/main/Introduction_to_the_Python_Programming_Language.ipynb\" target=\"_parent\"><img src=\"https://colab.research.google.com/assets/colab-badge.svg\" alt=\"Open In Colab\"/></a>"
      ]
    },
    {
      "cell_type": "markdown",
      "source": [
        "# **Connect to your colab notebook drive**\n"
      ],
      "metadata": {
        "id": "eUN5IcKd0oCs"
      }
    },
    {
      "cell_type": "code",
      "execution_count": 1,
      "metadata": {
        "id": "2x8enK7R0RaI",
        "outputId": "72136003-a0be-4c26-f23e-0d88f99f410c",
        "colab": {
          "base_uri": "https://localhost:8080/"
        }
      },
      "outputs": [
        {
          "output_type": "stream",
          "name": "stdout",
          "text": [
            "Mounted at /content/drive\n"
          ]
        }
      ],
      "source": [
        "from google.colab import drive\n",
        "drive.mount('/content/drive')"
      ]
    },
    {
      "cell_type": "code",
      "source": [
        "cd drive/MyDrive/EDA Class"
      ],
      "metadata": {
        "id": "TR1e000fX7xa",
        "outputId": "410501f6-69dc-4598-e531-c72440a9ce93",
        "colab": {
          "base_uri": "https://localhost:8080/"
        }
      },
      "execution_count": 2,
      "outputs": [
        {
          "output_type": "stream",
          "name": "stdout",
          "text": [
            "/content/drive/MyDrive/EDA Class\n"
          ]
        }
      ]
    },
    {
      "cell_type": "code",
      "source": [
        "!pwd"
      ],
      "metadata": {
        "id": "-4JQupIf20Ao",
        "outputId": "6e58561a-06f9-47e7-fb4c-ae6eac431822",
        "colab": {
          "base_uri": "https://localhost:8080/"
        }
      },
      "execution_count": 3,
      "outputs": [
        {
          "output_type": "stream",
          "name": "stdout",
          "text": [
            "/content/drive/MyDrive/EDA Class\n"
          ]
        }
      ]
    },
    {
      "cell_type": "code",
      "source": [
        "!ls"
      ],
      "metadata": {
        "id": "6RPs7qwWxce7",
        "outputId": "55f28c10-8842-4b56-dcac-794812eb8109",
        "colab": {
          "base_uri": "https://localhost:8080/"
        }
      },
      "execution_count": 4,
      "outputs": [
        {
          "output_type": "stream",
          "name": "stdout",
          "text": [
            "Car_SupplyChainManagementDataSet.csv  Mall_Customers.csv  movie_sample_dataset.csv\n"
          ]
        }
      ]
    },
    {
      "cell_type": "markdown",
      "source": [
        "# **Import library yang dibutuhkan**\n",
        "\n",
        "\n",
        "\n"
      ],
      "metadata": {
        "id": "rzSst3KKxdn4"
      }
    },
    {
      "cell_type": "code",
      "source": [
        "import pandas as pd\n",
        "import numpy as np\n",
        "import matplotlib.pyplot as plt"
      ],
      "metadata": {
        "id": "W1l78Me60mL0"
      },
      "execution_count": 5,
      "outputs": []
    },
    {
      "cell_type": "markdown",
      "source": [
        "# **Load data**\n",
        "\n"
      ],
      "metadata": {
        "id": "vZtaSUZB02On"
      }
    },
    {
      "cell_type": "code",
      "source": [
        "data = pd.read_csv('Car_SupplyChainManagementDataSet.csv')"
      ],
      "metadata": {
        "id": "2GV9mLQA1llP"
      },
      "execution_count": 6,
      "outputs": []
    },
    {
      "cell_type": "markdown",
      "source": [
        "# **Periksa properties umum dari dataset**\n",
        "\n"
      ],
      "metadata": {
        "id": "Nl7wfQ2M2hWn"
      }
    },
    {
      "cell_type": "code",
      "source": [
        "data.head()  #Judul kolom serta contoh tampilan data pada setiap kolom 5 teratas\n",
        "#data.tail() #Judul kolom serta contoh tampilan data pada setiap kolom 5 terbawah\n",
        "#data.shape   # Jumlah baris dan kolom pada dataset\n",
        "#data.info()  # Tipe data dari setiap kolom serta missing value\n",
        "#data.describe()  # computes summary statistics such as mean, median, standard deviation, etc.\n",
        "#data.describe().transpose()\n",
        "#data.isnull()  # shows the number of missing values in each column\n",
        "#data.isnull().sum()"
      ],
      "metadata": {
        "id": "w6ylafzk3Ntw"
      },
      "execution_count": null,
      "outputs": []
    },
    {
      "cell_type": "markdown",
      "source": [
        "# **Menggunakan fungsi stats dari SciPy**"
      ],
      "metadata": {
        "id": "k-_VoqHaItbX"
      }
    },
    {
      "cell_type": "code",
      "source": [
        "from scipy import stats"
      ],
      "metadata": {
        "id": "vhp2_lMKJJw_"
      },
      "execution_count": 26,
      "outputs": []
    },
    {
      "cell_type": "code",
      "source": [
        "#print(data.mean())  # computes the mean of each column\n",
        "#data[['CarPrice','Sales']].mean()\n",
        "#data.median()  # computes the median of each column\n",
        "#data.std()  # computes the standard deviation of each column\n",
        "#ata.var()  # computes the variance of each column\n"
      ],
      "metadata": {
        "id": "6iplzI_8CjDM"
      },
      "execution_count": 34,
      "outputs": []
    },
    {
      "cell_type": "markdown",
      "source": [
        "# **Analisis Korelasi**"
      ],
      "metadata": {
        "id": "q_yPKUbZKinb"
      }
    },
    {
      "cell_type": "code",
      "source": [
        "data.corr()  # computes the correlation between columns"
      ],
      "metadata": {
        "id": "lDQ5r_EZCytq"
      },
      "execution_count": null,
      "outputs": []
    },
    {
      "cell_type": "markdown",
      "source": [
        "# **Identifikasi outliers (atau pencilan) dan standarisasi data**"
      ],
      "metadata": {
        "id": "29m-ajknKvLI"
      }
    },
    {
      "cell_type": "code",
      "source": [
        "stats.zscore(data[['CarPrice','Sales']])  # computes the z-score for each value in the data\n"
      ],
      "metadata": {
        "id": "d83nl3lHC7dM"
      },
      "execution_count": null,
      "outputs": []
    },
    {
      "cell_type": "markdown",
      "source": [
        "# **Compute distribusi frekuensi**"
      ],
      "metadata": {
        "id": "XB1nvTQ4K7_u"
      }
    },
    {
      "cell_type": "code",
      "source": [
        "data['CarMaker'].value_counts()  # computes the frequency distribution for a column"
      ],
      "metadata": {
        "id": "axk4_I9ZDTD4"
      },
      "execution_count": null,
      "outputs": []
    },
    {
      "cell_type": "markdown",
      "source": [
        "# **Normalisasi menggunakan library Scikit-learn.**"
      ],
      "metadata": {
        "id": "YYwpZCORLG_W"
      }
    },
    {
      "cell_type": "code",
      "source": [
        "from sklearn.preprocessing import MinMaxScaler\n",
        "import numpy as np\n",
        "\n",
        "# create a sample dataset\n",
        "datatoprocess = np.array(data[['Sales']])\n",
        "\n",
        "# create an instance of the MinMaxScaler\n",
        "scaler = MinMaxScaler()\n",
        "\n",
        "# normalize the data using the scaler\n",
        "normalized_data = scaler.fit_transform(datatoprocess)\n",
        "\n",
        "print(normalized_data)"
      ],
      "metadata": {
        "id": "e5Cb6yK0JSTr"
      },
      "execution_count": null,
      "outputs": []
    },
    {
      "cell_type": "markdown",
      "source": [
        "# **Visualize data: Create visualizations such as histograms, boxplots, scatter plots, etc.**"
      ],
      "metadata": {
        "id": "-Ww3jI9WLn0i"
      }
    },
    {
      "cell_type": "code",
      "source": [
        "#data.hist(bins=10, figsize=(10,10))  # creates a histogram for each column in the data\n",
        "#data.boxplot(column=['Sales', 'CarPrice', 'Discount'])  # creates a boxplot for the specified columns\n",
        "#data.plot(kind='scatter', x='Discount', y='CarPrice')  # creates a scatter plot"
      ],
      "metadata": {
        "id": "gvJtaXpIK7qp"
      },
      "execution_count": null,
      "outputs": []
    }
  ]
}